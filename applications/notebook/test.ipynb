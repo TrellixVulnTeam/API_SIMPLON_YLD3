{
 "cells": [
  {
   "cell_type": "code",
   "execution_count": 13,
   "id": "comfortable-uncle",
   "metadata": {},
   "outputs": [],
   "source": [
    "import pymysql\n",
    "\n",
    "# Connection à l'instance de la database\n",
    "def connect_to_instance_db():\n",
    "    try:\n",
    "        conn = pymysql.connect(\n",
    "                host='127.0.0.1',\n",
    "                user='root',\n",
    "                password='1234',\n",
    "                charset='utf8mb4')\n",
    "    except pymysql.err.OperationalError as e:\n",
    "        raise e\n",
    "    else:\n",
    "        print(\"Connection Successful!\")\n",
    "    return conn, conn.cursor()"
   ]
  },
  {
   "cell_type": "code",
   "execution_count": null,
<<<<<<< Updated upstream
   "id": "biological-economics",
=======
   "id": "latin-antenna",
>>>>>>> Stashed changes
   "metadata": {},
   "outputs": [],
   "source": []
  },
  {
   "cell_type": "code",
   "execution_count": 50,
<<<<<<< Updated upstream
   "id": "unsigned-impossible",
=======
   "id": "loaded-trust",
>>>>>>> Stashed changes
   "metadata": {},
   "outputs": [],
   "source": [
    "class Node:\n",
    "    def __init__(self):\n",
    "        self.key = 0\n",
    "        self.occurence = 0\n",
    "        self.left = None\n",
    "        self.right = None\n",
    "        self.precedent = None\n",
    "        self.word_occurence = [0,0]\n",
    "\n",
    "class Tree:\n",
    "    def __init__(self):\n",
    "        self.root = None"
   ]
  },
  {
   "cell_type": "code",
   "execution_count": 38,
<<<<<<< Updated upstream
   "id": "pressed-dover",
=======
   "id": "developmental-report",
>>>>>>> Stashed changes
   "metadata": {},
   "outputs": [],
   "source": [
    "import requests\n",
    "from bs4 import BeautifulSoup\n",
    "\n",
    "def scrapper(url):\n",
    "    response = requests.get(url)\n",
    "    soup = BeautifulSoup(response.content, features='lxml')\n",
    "    link = soup.find('div', {'class': 'mw-parser-output'}).find_all('p')\n",
    "    \n",
    "    list_of_words = []\n",
    "    for i in link:\n",
    "        list_of_words += i.text.split()\n",
    "\n",
    "    return list_of_words"
   ]
  },
  {
   "cell_type": "code",
   "execution_count": 37,
<<<<<<< Updated upstream
   "id": "increasing-holly",
=======
   "id": "funded-minister",
>>>>>>> Stashed changes
   "metadata": {},
   "outputs": [],
   "source": [
    "def hash_str(string):\n",
    "    tmp = str(string)\n",
    "    tmp = hash(tmp)\n",
    "    return(tmp)"
   ]
  },
  {
   "cell_type": "code",
   "execution_count": 51,
<<<<<<< Updated upstream
   "id": "revolutionary-delhi",
=======
   "id": "atomic-korea",
>>>>>>> Stashed changes
   "metadata": {},
   "outputs": [],
   "source": [
    "url = 'https://fr.wikipedia.org/wiki/One_Piece'\n",
    "word = scrapper(url)"
   ]
  },
  {
   "cell_type": "code",
   "execution_count": 36,
   "id": "precise-macintosh",
   "metadata": {},
   "outputs": [],
   "source": [
    "def Tree_shearch(node, key):\n",
    "    if node == None or key == node.key:\n",
    "        return node\n",
    "    if key < node.key:\n",
    "        return(Tree_shearch(node.left, key))\n",
    "    else:\n",
    "        return(Tree_shearch(node.right, key))"
   ]
  },
  {
   "cell_type": "code",
   "execution_count": null,
<<<<<<< Updated upstream
   "id": "thousand-crowd",
=======
   "id": "artistic-cycle",
>>>>>>> Stashed changes
   "metadata": {},
   "outputs": [],
   "source": [
    "word = scrapper(url)\n",
    "for i in word:\n",
    "    node = Class.Node()\n",
    "    node.key = hash_str(i)"
   ]
  },
  {
   "cell_type": "code",
   "execution_count": 35,
<<<<<<< Updated upstream
   "id": "least-spencer",
=======
   "id": "equal-country",
>>>>>>> Stashed changes
   "metadata": {},
   "outputs": [
    {
     "ename": "AttributeError",
     "evalue": "'int' object has no attribute 'left'",
     "output_type": "error",
     "traceback": [
      "\u001b[1;31m---------------------------------------------------------------------------\u001b[0m",
      "\u001b[1;31mAttributeError\u001b[0m                            Traceback (most recent call last)",
      "\u001b[1;32m<ipython-input-35-9056aac5f73b>\u001b[0m in \u001b[0;36m<module>\u001b[1;34m\u001b[0m\n\u001b[1;32m----> 1\u001b[1;33m \u001b[0mTree_walk\u001b[0m\u001b[1;33m(\u001b[0m\u001b[1;36m50\u001b[0m\u001b[1;33m)\u001b[0m\u001b[1;33m\u001b[0m\u001b[1;33m\u001b[0m\u001b[0m\n\u001b[0m",
      "\u001b[1;32m<ipython-input-33-513ad5c88988>\u001b[0m in \u001b[0;36mTree_walk\u001b[1;34m(node)\u001b[0m\n\u001b[0;32m      2\u001b[0m \u001b[1;32mdef\u001b[0m \u001b[0mTree_walk\u001b[0m\u001b[1;33m(\u001b[0m\u001b[0mnode\u001b[0m\u001b[1;33m)\u001b[0m\u001b[1;33m:\u001b[0m\u001b[1;33m\u001b[0m\u001b[1;33m\u001b[0m\u001b[0m\n\u001b[0;32m      3\u001b[0m     \u001b[1;32mif\u001b[0m \u001b[0mnode\u001b[0m \u001b[1;33m!=\u001b[0m \u001b[1;32mNone\u001b[0m\u001b[1;33m:\u001b[0m\u001b[1;33m\u001b[0m\u001b[1;33m\u001b[0m\u001b[0m\n\u001b[1;32m----> 4\u001b[1;33m         \u001b[0mTree_walk\u001b[0m\u001b[1;33m(\u001b[0m\u001b[0mnode\u001b[0m\u001b[1;33m.\u001b[0m\u001b[0mleft\u001b[0m\u001b[1;33m)\u001b[0m\u001b[1;33m\u001b[0m\u001b[1;33m\u001b[0m\u001b[0m\n\u001b[0m\u001b[0;32m      5\u001b[0m         \u001b[0mprint\u001b[0m \u001b[1;33m(\u001b[0m\u001b[0mnode\u001b[0m\u001b[1;33m.\u001b[0m\u001b[0mkey\u001b[0m\u001b[1;33m,\u001b[0m \u001b[0mnode\u001b[0m\u001b[1;33m.\u001b[0m\u001b[0mword_occurence\u001b[0m\u001b[1;33m)\u001b[0m\u001b[1;33m\u001b[0m\u001b[1;33m\u001b[0m\u001b[0m\n\u001b[0;32m      6\u001b[0m         \u001b[0mTree_walk\u001b[0m\u001b[1;33m(\u001b[0m\u001b[0mnode\u001b[0m\u001b[1;33m.\u001b[0m\u001b[0mright\u001b[0m\u001b[1;33m)\u001b[0m\u001b[1;33m\u001b[0m\u001b[1;33m\u001b[0m\u001b[0m\n",
      "\u001b[1;31mAttributeError\u001b[0m: 'int' object has no attribute 'left'"
     ]
    }
   ],
   "source": [
    "Tree_shearch(tree.root, node.key)"
   ]
  },
  {
   "cell_type": "code",
   "execution_count": null,
<<<<<<< Updated upstream
   "id": "middle-backup",
=======
   "id": "spectacular-control",
>>>>>>> Stashed changes
   "metadata": {},
   "outputs": [],
   "source": []
  }
 ],
 "metadata": {
  "kernelspec": {
   "display_name": "Python 3",
   "language": "python",
   "name": "python3"
  },
  "language_info": {
   "codemirror_mode": {
    "name": "ipython",
    "version": 3
   },
   "file_extension": ".py",
   "mimetype": "text/x-python",
   "name": "python",
   "nbconvert_exporter": "python",
   "pygments_lexer": "ipython3",
   "version": "3.8.8"
  }
 },
 "nbformat": 4,
 "nbformat_minor": 5
}
